{
 "cells": [
  {
   "cell_type": "code",
   "execution_count": 1,
   "id": "d95950a6",
   "metadata": {},
   "outputs": [],
   "source": [
    "# Importing the Keras libraries and packages\n",
    "from keras.models import Sequential\n",
    "from keras.layers import MaxPooling2D\n",
    "from sklearn.model_selection import train_test_split\n",
    "import zipfile\n",
    "from PIL import Image\n",
    "from sklearn.model_selection import KFold\n",
    "from keras.layers import Dense, Conv2D, MaxPooling2D, Flatten\n",
    "from keras.optimizers import Adam\n",
    "from keras.utils import to_categorical\n",
    "import tensorflow as tf\n",
    "from tensorflow.keras.models import load_model\n",
    "from tensorflow.keras.preprocessing import image\n",
    "import numpy as np\n",
    "from sklearn.metrics import mean_absolute_error\n",
    "from sklearn.metrics import mean_squared_error\n",
    "from sklearn.preprocessing import StandardScaler\n",
    "%matplotlib inline\n",
    "import matplotlib.image as mpimg\n",
    "import matplotlib.pyplot as plt\n",
    "from tensorflow.keras.optimizers import RMSprop,SGD,Adam\n",
    "from tensorflow import keras"
   ]
  },
  {
   "cell_type": "code",
   "execution_count": 2,
   "id": "48329869",
   "metadata": {},
   "outputs": [],
   "source": [
    "model = tf.keras.models.Sequential([\n",
    "    tf.keras.layers.Conv2D(16,(3,3),activation = \"relu\" , input_shape = (180,180,3)) ,\n",
    "    tf.keras.layers.MaxPooling2D(2,2),\n",
    "    tf.keras.layers.Conv2D(32,(3,3),activation = \"relu\") ,  \n",
    "    tf.keras.layers.MaxPooling2D(2,2),\n",
    "    tf.keras.layers.Conv2D(64,(3,3),activation = \"relu\") ,  \n",
    "    tf.keras.layers.MaxPooling2D(2,2),\n",
    "    tf.keras.layers.Conv2D(128,(3,3),activation = \"relu\"),  \n",
    "    tf.keras.layers.MaxPooling2D(2,2),\n",
    "    tf.keras.layers.Flatten(), \n",
    "    tf.keras.layers.Dense(550,activation=\"relu\"),      #Adding the Hidden layer\n",
    "    tf.keras.layers.Dropout(0.1),\n",
    "    tf.keras.layers.Dense(400,activation =\"relu\"),\n",
    "    tf.keras.layers.Dropout(0.3),\n",
    "    tf.keras.layers.Dense(300,activation=\"relu\"),\n",
    "    tf.keras.layers.Dropout(0.4),\n",
    "    tf.keras.layers.Dense(200,activation =\"relu\"),\n",
    "    tf.keras.layers.Dropout(0.2),\n",
    "    tf.keras.layers.Dense(2,activation = \"softmax\")   #Adding the Output Layer\n",
    "])"
   ]
  },
  {
   "cell_type": "code",
   "execution_count": 3,
   "id": "4b5fbbaa",
   "metadata": {},
   "outputs": [],
   "source": [
    "adam=Adam(learning_rate=0.001)\n",
    "model.compile(optimizer='adam', loss='categorical_crossentropy', metrics = ['acc'])"
   ]
  },
  {
   "cell_type": "code",
   "execution_count": 4,
   "id": "4b3b7499",
   "metadata": {},
   "outputs": [
    {
     "name": "stdout",
     "output_type": "stream",
     "text": [
      "Found 200 images belonging to 2 classes.\n",
      "Found 60 images belonging to 2 classes.\n"
     ]
    }
   ],
   "source": [
    "bs=30         #Setting batch size\n",
    "train_dir = \"D:/JOB/Lubeck/Task/tanvirf/UnionInstruments/Preprocessed Dataset/Model/Train\"   #Setting training directory\n",
    "validation_dir = \"D:/JOB/Lubeck/Task/tanvirf/UnionInstruments/Preprocessed Dataset/Model/Test\"   #Setting testing directory\n",
    "from tensorflow.keras.preprocessing.image import ImageDataGenerator \n",
    "# All images will be rescaled by 1./255.\n",
    "train_datagen = ImageDataGenerator( rescale = 1.0/255. )\n",
    "test_datagen  = ImageDataGenerator( rescale = 1.0/255. )\n",
    "# Flow training images in batches of 20 using train_datagen generator\n",
    "#Flow_from_directory function lets the classifier directly identify the labels from the name of the directories the image lies in\n",
    "train_generator=train_datagen.flow_from_directory(train_dir,batch_size=bs,class_mode='categorical',target_size=(180,180))\n",
    "# Flow validation images in batches of 20 using test_datagen generator\n",
    "validation_generator =  test_datagen.flow_from_directory(validation_dir,\n",
    "                                                         batch_size=bs,\n",
    "                                                         class_mode  = 'categorical',\n",
    "                                                         target_size=(180,180))"
   ]
  },
  {
   "cell_type": "code",
   "execution_count": 5,
   "id": "6d6a728e",
   "metadata": {},
   "outputs": [
    {
     "name": "stdout",
     "output_type": "stream",
     "text": [
      "Epoch 1/30\n",
      "5/5 - 4s - loss: 0.8239 - acc: 0.4600 - val_loss: 0.7031 - val_acc: 0.4667 - 4s/epoch - 721ms/step\n",
      "Epoch 2/30\n",
      "5/5 - 2s - loss: 0.6995 - acc: 0.4733 - val_loss: 0.6871 - val_acc: 0.6000 - 2s/epoch - 348ms/step\n",
      "Epoch 3/30\n",
      "5/5 - 2s - loss: 0.6934 - acc: 0.5214 - val_loss: 0.6935 - val_acc: 0.5000 - 2s/epoch - 318ms/step\n",
      "Epoch 4/30\n",
      "5/5 - 2s - loss: 0.6876 - acc: 0.5467 - val_loss: 0.7056 - val_acc: 0.4333 - 2s/epoch - 336ms/step\n",
      "Epoch 5/30\n",
      "5/5 - 2s - loss: 0.6914 - acc: 0.5643 - val_loss: 0.6905 - val_acc: 0.5333 - 2s/epoch - 312ms/step\n",
      "Epoch 6/30\n",
      "5/5 - 2s - loss: 0.6980 - acc: 0.5067 - val_loss: 0.6886 - val_acc: 0.6000 - 2s/epoch - 333ms/step\n",
      "Epoch 7/30\n",
      "5/5 - 2s - loss: 0.6930 - acc: 0.5400 - val_loss: 0.7012 - val_acc: 0.4000 - 2s/epoch - 326ms/step\n",
      "Epoch 8/30\n",
      "5/5 - 2s - loss: 0.6906 - acc: 0.5467 - val_loss: 0.6695 - val_acc: 0.6667 - 2s/epoch - 334ms/step\n",
      "Epoch 9/30\n",
      "5/5 - 2s - loss: 0.6970 - acc: 0.4933 - val_loss: 0.6717 - val_acc: 0.6333 - 2s/epoch - 325ms/step\n",
      "Epoch 10/30\n",
      "5/5 - 2s - loss: 0.6924 - acc: 0.5214 - val_loss: 0.6915 - val_acc: 0.5000 - 2s/epoch - 318ms/step\n",
      "Epoch 11/30\n",
      "5/5 - 2s - loss: 0.6918 - acc: 0.5000 - val_loss: 0.6861 - val_acc: 0.5000 - 2s/epoch - 322ms/step\n",
      "Epoch 12/30\n",
      "5/5 - 2s - loss: 0.6855 - acc: 0.5133 - val_loss: 0.6730 - val_acc: 0.8333 - 2s/epoch - 330ms/step\n",
      "Epoch 13/30\n",
      "5/5 - 2s - loss: 0.6540 - acc: 0.7500 - val_loss: 0.5792 - val_acc: 1.0000 - 2s/epoch - 311ms/step\n",
      "Epoch 14/30\n",
      "5/5 - 2s - loss: 0.4984 - acc: 0.8643 - val_loss: 0.1415 - val_acc: 1.0000 - 2s/epoch - 305ms/step\n",
      "Epoch 15/30\n",
      "5/5 - 2s - loss: 0.1001 - acc: 0.9733 - val_loss: 0.0030 - val_acc: 1.0000 - 2s/epoch - 328ms/step\n",
      "Epoch 16/30\n",
      "5/5 - 2s - loss: 0.0026 - acc: 1.0000 - val_loss: 3.4650e-06 - val_acc: 1.0000 - 2s/epoch - 313ms/step\n",
      "Epoch 17/30\n",
      "5/5 - 2s - loss: 4.1215e-05 - acc: 1.0000 - val_loss: 0.0000e+00 - val_acc: 1.0000 - 2s/epoch - 308ms/step\n",
      "Epoch 18/30\n",
      "5/5 - 2s - loss: 0.0100 - acc: 0.9933 - val_loss: 17.5109 - val_acc: 0.5000 - 2s/epoch - 328ms/step\n",
      "Epoch 19/30\n",
      "5/5 - 2s - loss: 4.1184 - acc: 0.7643 - val_loss: 0.5846 - val_acc: 0.8000 - 2s/epoch - 305ms/step\n",
      "Epoch 20/30\n",
      "5/5 - 2s - loss: 0.2777 - acc: 0.9143 - val_loss: 0.0434 - val_acc: 1.0000 - 2s/epoch - 313ms/step\n",
      "Epoch 21/30\n",
      "5/5 - 2s - loss: 0.0420 - acc: 1.0000 - val_loss: 0.0027 - val_acc: 1.0000 - 2s/epoch - 313ms/step\n",
      "Epoch 22/30\n",
      "5/5 - 2s - loss: 0.0117 - acc: 0.9933 - val_loss: 1.7873e-04 - val_acc: 1.0000 - 2s/epoch - 330ms/step\n",
      "Epoch 23/30\n",
      "5/5 - 2s - loss: 0.4882 - acc: 0.8500 - val_loss: 4.1402e-04 - val_acc: 1.0000 - 2s/epoch - 307ms/step\n",
      "Epoch 24/30\n",
      "5/5 - 2s - loss: 0.5693 - acc: 0.8929 - val_loss: 2.0240e-05 - val_acc: 1.0000 - 2s/epoch - 308ms/step\n",
      "Epoch 25/30\n",
      "5/5 - 2s - loss: 0.5905 - acc: 0.8429 - val_loss: 0.1821 - val_acc: 0.9000 - 2s/epoch - 313ms/step\n",
      "Epoch 26/30\n",
      "5/5 - 2s - loss: 0.1951 - acc: 0.9857 - val_loss: 0.1660 - val_acc: 1.0000 - 2s/epoch - 309ms/step\n",
      "Epoch 27/30\n",
      "5/5 - 2s - loss: 0.1248 - acc: 1.0000 - val_loss: 0.0693 - val_acc: 1.0000 - 2s/epoch - 309ms/step\n",
      "Epoch 28/30\n",
      "5/5 - 2s - loss: 0.0479 - acc: 1.0000 - val_loss: 6.1917e-04 - val_acc: 1.0000 - 2s/epoch - 317ms/step\n",
      "Epoch 29/30\n",
      "5/5 - 2s - loss: 0.0015 - acc: 1.0000 - val_loss: 4.4146e-06 - val_acc: 1.0000 - 2s/epoch - 336ms/step\n",
      "Epoch 30/30\n",
      "5/5 - 2s - loss: 2.1640e-04 - acc: 1.0000 - val_loss: 4.5336e-06 - val_acc: 1.0000 - 2s/epoch - 329ms/step\n"
     ]
    }
   ],
   "source": [
    "history = model.fit(train_generator,validation_data=validation_generator,steps_per_epoch=150 // bs,epochs=30,validation_steps=50 // bs,verbose=2)"
   ]
  },
  {
   "cell_type": "code",
   "execution_count": 6,
   "id": "5517215b",
   "metadata": {},
   "outputs": [
    {
     "data": {
      "image/png": "[encoded data removed]",
      "text/plain": [
       "<Figure size 432x288 with 1 Axes>"
      ]
     },
     "metadata": {
      "needs_background": "light"
     },
     "output_type": "display_data"
    }
   ],
   "source": [
    "# plot the training and validation accuracy\n",
    "plt.plot(history.history['acc'])\n",
    "plt.plot(history.history['val_acc'])\n",
    "plt.title('Model Accuracy')\n",
    "plt.xlabel('Epoch')\n",
    "plt.ylabel('Accuracy')\n",
    "plt.legend(['Train', 'Validation'], loc='upper right')\n",
    "plt.show()\n"
   ]
  },
  {
   "cell_type": "code",
   "execution_count": 7,
   "id": "7c217fa2",
   "metadata": {},
   "outputs": [
    {
     "data": {
      "image/png": "[encoded data removed]",
      "text/plain": [
       "<Figure size 432x288 with 1 Axes>"
      ]
     },
     "metadata": {
      "needs_background": "light"
     },
     "output_type": "display_data"
    }
   ],
   "source": [
    "# plot the training and validation loss\n",
    "plt.plot(history.history['loss'])\n",
    "plt.plot(history.history['val_loss'])\n",
    "plt.title('Model Loss')\n",
    "plt.xlabel('Epoch')\n",
    "plt.ylabel('Loss')\n",
    "plt.legend(['Train', 'Validation'], loc='upper right')\n",
    "plt.show()\n"
   ]
  },
  {
   "cell_type": "code",
   "execution_count": 8,
   "id": "7e19aa17",
   "metadata": {},
   "outputs": [
    {
     "name": "stdout",
     "output_type": "stream",
     "text": [
      "1/1 [==============================] - 0s 99ms/step\n",
      "DW: 0.01%\n",
      "TW: 99.99%\n"
     ]
    }
   ],
   "source": [
    "# Load and preprocess the image you want to test\n",
    "img = keras.preprocessing.image.load_img('801.jpg', target_size=(180, 180))\n",
    "img_array = keras.preprocessing.image.img_to_array(img)\n",
    "img_array = np.expand_dims(img_array, axis=0)\n",
    "img_array = img_array / 255.0  # normalize pixel values\n",
    "\n",
    "# Use the model to make predictions on the image\n",
    "predictions = model.predict(img_array)\n",
    "\n",
    "# Print the predicted class label and probability for each class\n",
    "class_labels = ['DW', 'TW']\n",
    "for i in range(len(class_labels)):\n",
    "    print(\"{}: {:.2f}%\".format(class_labels[i], predictions[0][i]*100))\n"
   ]
  },
  {
   "cell_type": "code",
   "execution_count": 9,
   "id": "f5e3fd58",
   "metadata": {},
   "outputs": [
    {
     "name": "stdout",
     "output_type": "stream",
     "text": [
      "1/1 [==============================] - 0s 33ms/step\n",
      "DW: 100.00%\n",
      "TW: 0.00%\n"
     ]
    }
   ],
   "source": [
    "# Load and preprocess the image you want to test\n",
    "img = keras.preprocessing.image.load_img('810.jpg', target_size=(180, 180))\n",
    "img_array = keras.preprocessing.image.img_to_array(img)\n",
    "img_array = np.expand_dims(img_array, axis=0)\n",
    "img_array = img_array / 255.0  # normalize pixel values\n",
    "\n",
    "# Use the model to make predictions on the image\n",
    "predictions = model.predict(img_array)\n",
    "\n",
    "# Print the predicted class label and probability for each class\n",
    "class_labels = ['DW', 'TW']\n",
    "for i in range(len(class_labels)):\n",
    "    print(\"{}: {:.2f}%\".format(class_labels[i], predictions[0][i]*100))"
   ]
  },
  {
   "cell_type": "code",
   "execution_count": 10,
   "id": "00d442fa",
   "metadata": {},
   "outputs": [
    {
     "name": "stdout",
     "output_type": "stream",
     "text": [
      "Model: \"sequential\"\n",
      "_________________________________________________________________\n",
      " Layer (type)                Output Shape              Param #   \n",
      "=================================================================\n",
      " conv2d (Conv2D)             (None, 178, 178, 16)      448       \n",
      "                                                                 \n",
      " max_pooling2d (MaxPooling2D  (None, 89, 89, 16)       0         \n",
      " )                                                               \n",
      "                                                                 \n",
      " conv2d_1 (Conv2D)           (None, 87, 87, 32)        4640      \n",
      "                                                                 \n",
      " max_pooling2d_1 (MaxPooling  (None, 43, 43, 32)       0         \n",
      " 2D)                                                             \n",
      "                                                                 \n",
      " conv2d_2 (Conv2D)           (None, 41, 41, 64)        18496     \n",
      "                                                                 \n",
      " max_pooling2d_2 (MaxPooling  (None, 20, 20, 64)       0         \n",
      " 2D)                                                             \n",
      "                                                                 \n",
      " conv2d_3 (Conv2D)           (None, 18, 18, 128)       73856     \n",
      "                                                                 \n",
      " max_pooling2d_3 (MaxPooling  (None, 9, 9, 128)        0         \n",
      " 2D)                                                             \n",
      "                                                                 \n",
      " flatten (Flatten)           (None, 10368)             0         \n",
      "                                                                 \n",
      " dense (Dense)               (None, 550)               5702950   \n",
      "                                                                 \n",
      " dropout (Dropout)           (None, 550)               0         \n",
      "                                                                 \n",
      " dense_1 (Dense)             (None, 400)               220400    \n",
      "                                                                 \n",
      " dropout_1 (Dropout)         (None, 400)               0         \n",
      "                                                                 \n",
      " dense_2 (Dense)             (None, 300)               120300    \n",
      "                                                                 \n",
      " dropout_2 (Dropout)         (None, 300)               0         \n",
      "                                                                 \n",
      " dense_3 (Dense)             (None, 200)               60200     \n",
      "                                                                 \n",
      " dropout_3 (Dropout)         (None, 200)               0         \n",
      "                                                                 \n",
      " dense_4 (Dense)             (None, 2)                 402       \n",
      "                                                                 \n",
      "=================================================================\n",
      "Total params: 6,201,692\n",
      "Trainable params: 6,201,692\n",
      "Non-trainable params: 0\n",
      "_________________________________________________________________\n"
     ]
    }
   ],
   "source": [
    "model.summary()"
   ]
  },
  {
   "cell_type": "code",
   "execution_count": null,
   "id": "b0048abf",
   "metadata": {},
   "outputs": [],
   "source": []
  }
 ],
 "metadata": {
  "kernelspec": {
   "display_name": "Python 3",
   "language": "python",
   "name": "python3"
  },
  "language_info": {
   "codemirror_mode": {
    "name": "ipython",
    "version": 3
   },
   "file_extension": ".py",
   "mimetype": "text/x-python",
   "name": "python",
   "nbconvert_exporter": "python",
   "pygments_lexer": "ipython3",
   "version": "3.8.8"
  }
 },
 "nbformat": 4,
 "nbformat_minor": 5
}
